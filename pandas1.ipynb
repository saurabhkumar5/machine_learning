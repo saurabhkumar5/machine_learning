{
 "cells": [
  {
   "cell_type": "code",
   "execution_count": 1,
   "metadata": {},
   "outputs": [
    {
     "name": "stdout",
     "output_type": "stream",
     "text": [
      "0    10\n",
      "1    20\n",
      "2    30\n",
      "3    40\n",
      "4    50\n",
      "dtype: int64\n"
     ]
    }
   ],
   "source": [
    "import pandas as pd\n",
    "\n",
    "a = pd.Series([10,20,30,40,50])\n",
    "print(a)"
   ]
  },
  {
   "cell_type": "code",
   "execution_count": 3,
   "metadata": {},
   "outputs": [
    {
     "name": "stdout",
     "output_type": "stream",
     "text": [
      "a    10\n",
      "b    20\n",
      "c    30\n",
      "d    40\n",
      "e    50\n",
      "dtype: int64\n",
      "a    1\n",
      "b    2\n",
      "c    3\n",
      "dtype: int64\n"
     ]
    }
   ],
   "source": [
    "#agar indexing change karni h to\n",
    "a = pd.Series([10,20,30,40,50],index=[\"a\",\"b\",\"c\",\"d\",\"e\"])\n",
    "print(a)\n",
    "\n",
    "b = pd.Series({\"a\":1,\"b\":2,\"c\":3})\n",
    "print(b)"
   ]
  },
  {
   "cell_type": "code",
   "execution_count": 5,
   "metadata": {},
   "outputs": [
    {
     "name": "stdout",
     "output_type": "stream",
     "text": [
      "a    5.0\n",
      "b    5.0\n",
      "c    5.0\n",
      "dtype: float64\n"
     ]
    }
   ],
   "source": [
    "import pandas as pd\n",
    "a=pd.Series(5.0,index=[\"a\",\"b\",\"c\"])\n",
    "print(a)"
   ]
  },
  {
   "cell_type": "code",
   "execution_count": 9,
   "metadata": {},
   "outputs": [
    {
     "name": "stdout",
     "output_type": "stream",
     "text": [
      "float64\n",
      "Index(['a', 'b', 'c'], dtype='object')\n",
      "[5. 5. 5.]\n",
      "5.0\n"
     ]
    }
   ],
   "source": [
    "e=pd.Series(5.0,index=[\"a\",\"b\",\"c\"])\n",
    "print(e.dtype)\n",
    "print(e.index)\n",
    "print(e.values)\n",
    "print(e.get(\"c\"))"
   ]
  },
  {
   "cell_type": "code",
   "execution_count": 10,
   "metadata": {},
   "outputs": [
    {
     "name": "stdout",
     "output_type": "stream",
     "text": [
      "     name  age\n",
      "0   sonam   10\n",
      "1   rohan   45\n",
      "2    rani   30\n",
      "3  kavita   20\n"
     ]
    }
   ],
   "source": [
    "data = {\n",
    "    'name':['sonam','rohan','rani','kavita'],\n",
    "    'age':[10,45,30,20]\n",
    "}\n",
    "df = pd.DataFrame(data)\n",
    "print(df)"
   ]
  },
  {
   "cell_type": "code",
   "execution_count": 19,
   "metadata": {},
   "outputs": [
    {
     "name": "stdout",
     "output_type": "stream",
     "text": [
      "name       sonam\n",
      "age           10\n",
      "hobby    singing\n",
      "dtype: object\n"
     ]
    }
   ],
   "source": [
    "import pandas as pd\n",
    "a = [1,22,3,4]\n",
    "c = {'name':'sonam','age':10,'hobby':\"singing\"}\n",
    "b = pd.Series(c)\n",
    "print(b)"
   ]
  },
  {
   "cell_type": "code",
   "execution_count": 21,
   "metadata": {},
   "outputs": [
    {
     "name": "stdout",
     "output_type": "stream",
     "text": [
      "      name  age\n",
      "a  saurabh    1\n",
      "b    sonam   55\n",
      "c    komal   33\n",
      "d   aarohi   12\n"
     ]
    }
   ],
   "source": [
    "data = {\n",
    "    \"name\":['saurabh','sonam','komal','aarohi'],\n",
    "    'age':[1,55,33,12]\n",
    "}\n",
    "a = pd.DataFrame(data,index=['a','b','c','d'])\n",
    "print(a)"
   ]
  },
  {
   "cell_type": "code",
   "execution_count": 29,
   "metadata": {},
   "outputs": [
    {
     "name": "stdout",
     "output_type": "stream",
     "text": [
      "sohan\n"
     ]
    }
   ],
   "source": [
    "data = [\n",
    "    {'name':'rohan','age':12,'hobbey':'reading'},\n",
    "    {'name':'sohan','age':44,'hobbey':'singing'},\n",
    "    {'name':'komal','age':15,'hobbey':'playing'},\n",
    "    {'name':'dimple','age':23,'hobbey':'sleeping'},\n",
    "]\n",
    "df = pd.DataFrame(data,index=['a','b','c','d'])\n",
    "print(df.name.get('b'))"
   ]
  },
  {
   "cell_type": "code",
   "execution_count": 30,
   "metadata": {},
   "outputs": [
    {
     "name": "stdout",
     "output_type": "stream",
     "text": [
      "   weight  price\n",
      "0    10.0    1.0\n",
      "1    20.0    2.0\n",
      "2    30.0    3.0\n",
      "3     NaN    4.0\n"
     ]
    }
   ],
   "source": [
    "data = {\n",
    "    \"weight\":pd.Series([10,20,30]),\n",
    "    \"price\":pd.Series([1.0,2.0,3.0,4.0])\n",
    "}\n",
    "df = pd.DataFrame(data)\n",
    "print(df)"
   ]
  },
  {
   "cell_type": "code",
   "execution_count": 52,
   "metadata": {},
   "outputs": [
    {
     "name": "stdout",
     "output_type": "stream",
     "text": [
      "       name  age  marks\n",
      "0     sohan   10     10\n",
      "1     rohan   20     20\n",
      "2     kullu   30      3\n",
      "3    shimla   40     45\n",
      "4    manali   50    456\n",
      "5     delhi   12     23\n",
      "6     sonam   65     45\n",
      "7      annu   89     98\n",
      "8   anamika   41     75\n",
      "9     rahul   65     65\n",
      "10    komal   23     32\n",
      "11   simran   32     33\n",
      "12   aniket   21     43\n",
      "13     aman   42     34\n"
     ]
    }
   ],
   "source": [
    "data = {\n",
    "    'name':['sohan','rohan','kullu','shimla','manali','delhi','sonam','annu','anamika','rahul','komal','simran','aniket','aman'],\n",
    "    'age':[10,20,30,40,50,12,65,89,41,65,23,32,21,42]\n",
    "}\n",
    "df = pd.DataFrame(data)\n",
    "# print(df)\n",
    "# print(df.info())\n",
    "# print(df.isnull())\n",
    "# print(df.isnull().sum())\n",
    "# print(df.describe())\n",
    "# print(df.head(10))\n",
    "# print(df.tail(10))\n",
    "# print(df[\"name\"].duplicated())\n",
    "# print(df.sort_values('age'))\n",
    "\n",
    "# print(df[df[\"age\"]>30])\n",
    "# df[\"result\"] = \"pass\"\n",
    "# print(df)\n",
    "df[\"marks\"] = [10,20,3,45,456,23,45,98,75,65,32,33,43,34]\n",
    "print(df)"
   ]
  },
  {
   "cell_type": "code",
   "execution_count": null,
   "metadata": {},
   "outputs": [],
   "source": []
  }
 ],
 "metadata": {
  "kernelspec": {
   "display_name": "Python 3",
   "language": "python",
   "name": "python3"
  },
  "language_info": {
   "codemirror_mode": {
    "name": "ipython",
    "version": 3
   },
   "file_extension": ".py",
   "mimetype": "text/x-python",
   "name": "python",
   "nbconvert_exporter": "python",
   "pygments_lexer": "ipython3",
   "version": "3.10.0"
  }
 },
 "nbformat": 4,
 "nbformat_minor": 2
}
